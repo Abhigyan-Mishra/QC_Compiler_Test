{
 "cells": [
  {
   "cell_type": "code",
   "execution_count": 1,
   "metadata": {},
   "outputs": [],
   "source": [
    "import qcc"
   ]
  },
  {
   "cell_type": "code",
   "execution_count": 6,
   "metadata": {},
   "outputs": [
    {
     "name": "stdout",
     "output_type": "stream",
     "text": [
      "   1 * |00>\n"
     ]
    }
   ],
   "source": [
    "Nbits=2\n",
    "\n",
    "# Create Bell state\n",
    "s0=qcc.state(Nbits)\n",
    "print(s0)\n",
    "op=qcc.operator(Nbits).H(0).CNOT(0,1)\n",
    "s=op * s0"
   ]
  },
  {
   "cell_type": "code",
   "execution_count": 3,
   "metadata": {},
   "outputs": [
    {
     "name": "stdout",
     "output_type": "stream",
     "text": [
      "Bell state\n",
      "   0.707107 * |00>\n",
      " + 0.707107 * |11>\n"
     ]
    }
   ],
   "source": [
    "# Print state\n",
    "print(\"Bell state\")\n",
    "print(s)"
   ]
  },
  {
   "cell_type": "code",
   "execution_count": 7,
   "metadata": {},
   "outputs": [
    {
     "name": "stdout",
     "output_type": "stream",
     "text": [
      "OPENQASM 2.0;\n",
      "include \"qelib1.inc\";\n",
      "qreg qr[2];\n",
      "creg cr[2];\n",
      "h qr[0];\n",
      "cx qr[0],qr[1];\n",
      "measure qr -> cr;\n",
      "\n"
     ]
    }
   ],
   "source": [
    "print(op.toQASM())"
   ]
  },
  {
   "cell_type": "code",
   "execution_count": 8,
   "metadata": {},
   "outputs": [
    {
     "name": "stdout",
     "output_type": "stream",
     "text": [
      "Measurement # 0:    1 * |11> | 11\n",
      "Measurement # 1:    1 * |11> | 11\n",
      "Measurement # 2:    1 * |00> | 00\n",
      "Measurement # 3:    1 * |00> | 00\n",
      "Measurement # 4:    1 * |11> | 11\n",
      "Measurement # 5:    1 * |00> | 00\n",
      "Measurement # 6:    1 * |11> | 11\n",
      "Measurement # 7:    1 * |00> | 00\n",
      "Measurement # 8:    1 * |00> | 00\n",
      "Measurement # 9:    1 * |00> | 00\n"
     ]
    }
   ],
   "source": [
    "# Perform 10 measurements\n",
    "for n in range(10):\n",
    "    s0,v0=s.measure(0)\n",
    "    s1,v1=s0.measure(1)\n",
    "    \n",
    "    # And print results of state and classical bits\n",
    "    print(\"Measurement # %d: %s | %d%d\" % (n,s1,v1,v0))"
   ]
  },
  {
   "cell_type": "code",
   "execution_count": 5,
   "metadata": {},
   "outputs": [
    {
     "data": {
      "text/plain": [
       "{0: 5017, 3: 4983}"
      ]
     },
     "execution_count": 5,
     "metadata": {},
     "output_type": "execute_result"
    }
   ],
   "source": [
    "qcc.sample(s, 10000)"
   ]
  },
  {
   "cell_type": "code",
   "execution_count": null,
   "metadata": {},
   "outputs": [],
   "source": []
  }
 ],
 "metadata": {
  "kernelspec": {
   "display_name": "Python 3",
   "language": "python",
   "name": "python3"
  },
  "language_info": {
   "codemirror_mode": {
    "name": "ipython",
    "version": 3
   },
   "file_extension": ".py",
   "mimetype": "text/x-python",
   "name": "python",
   "nbconvert_exporter": "python",
   "pygments_lexer": "ipython3",
   "version": "3.8.5"
  },
  "latex_envs": {
   "LaTeX_envs_menu_present": true,
   "autoclose": false,
   "autocomplete": true,
   "bibliofile": "biblio.bib",
   "cite_by": "apalike",
   "current_citInitial": 1,
   "eqLabelWithNumbers": true,
   "eqNumInitial": 1,
   "hotkeys": {
    "equation": "Ctrl-E",
    "itemize": "Ctrl-I"
   },
   "labels_anchors": false,
   "latex_user_defs": false,
   "report_style_numbering": false,
   "user_envs_cfg": false
  },
  "toc": {
   "base_numbering": 1,
   "nav_menu": {},
   "number_sections": true,
   "sideBar": true,
   "skip_h1_title": false,
   "title_cell": "Table of Contents",
   "title_sidebar": "Contents",
   "toc_cell": false,
   "toc_position": {},
   "toc_section_display": true,
   "toc_window_display": false
  }
 },
 "nbformat": 4,
 "nbformat_minor": 2
}
