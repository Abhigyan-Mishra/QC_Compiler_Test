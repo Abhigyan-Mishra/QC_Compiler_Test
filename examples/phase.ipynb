{
 "cells": [
  {
   "cell_type": "code",
   "execution_count": 1,
   "metadata": {},
   "outputs": [],
   "source": [
    "import qcc\n",
    "import numpy as np\n",
    "from exercises import qft\n",
    "import matplotlib.pyplot as plt"
   ]
  },
  {
   "cell_type": "markdown",
   "metadata": {},
   "source": [
    "# Phase estimation"
   ]
  },
  {
   "cell_type": "code",
   "execution_count": 5,
   "metadata": {},
   "outputs": [],
   "source": [
    "def phaseEstimate(op,xbits,cuj):\n",
    "    N=len(xbits)\n",
    "    for i in reversed(range(N)):\n",
    "        op=op.H(xbits[i])\n",
    "        op=cuj(xbits[i],2**i,op)\n",
    "    op=qft(op,mask=xbits,inverse=True)\n",
    "    return op\n",
    "\n",
    "# Simple U = {{ Exp[I 2pi phi], 0}, { 0, Exp[-I 2pi phi] }}, always acting on LSB\n",
    "def CU(i,k,op,phi): # i is control qubit, k is power\n",
    "    return op.Rz(0,2.*np.pi*phi*k).CNOT(i,0).Rz(0,-2.*np.pi*phi*k).CNOT(i,0)\n",
    "\n",
    "def measure(Nxbits,Nmeasure,cuj):\n",
    "    Nbits=Nxbits+1\n",
    "    xbits=list(range(1,Nbits))\n",
    "    \n",
    "    st0=qcc.state(Nbits,basis=[\"|%g>|%d>\" % ( (i//2) / 2**Nxbits,i%2) for i in range(2**Nbits)])\n",
    "    print(\"Initial = 0\\n\",st0)\n",
    "\n",
    "    st1=phaseEstimate(qcc.operator(Nbits).H(0),xbits,cuj)*st0\n",
    "\n",
    "    if Nmeasure == 0:\n",
    "        print(\"State after phaseEstimate\\n\",st1)\n",
    "    else:\n",
    "        res=qcc.sample(st1,Nmeasure,mask=xbits)\n",
    "        \n",
    "        plt.bar([ x / 2**Nxbits for x in res.keys() ],res.values(),width=0.01)\n",
    "        plt.xlabel('phi')\n",
    "        plt.xlim(0,1)\n",
    "        plt.ylabel('count')\n",
    "        plt.show()\n",
    "        \n",
    "        print(res)\n",
    "        \n",
    "    \n"
   ]
  },
  {
   "cell_type": "code",
   "execution_count": 3,
   "metadata": {},
   "outputs": [
    {
     "name": "stdout",
     "output_type": "stream",
     "text": [
      "Initial = 0\n",
      "    1 * |0>|0>\n",
      "State after phaseEstimate\n",
      "    0.707107 * |0.25>|1>\n",
      " + 0.707107 * |0.75>|0>\n"
     ]
    }
   ],
   "source": [
    "measure(4,0,lambda i,k,op: CU(i,k,op,0.25))"
   ]
  },
  {
   "cell_type": "code",
   "execution_count": 9,
   "metadata": {},
   "outputs": [
    {
     "name": "stdout",
     "output_type": "stream",
     "text": [
      "Initial = 0\n",
      "    1 * |0>|0>\n"
     ]
    },
    {
     "data": {
      "image/png": "[encoded data removed]",
      "text/plain": [
       "<Figure size 432x288 with 1 Axes>"
      ]
     },
     "metadata": {
      "needs_background": "light"
     },
     "output_type": "display_data"
    },
    {
     "name": "stdout",
     "output_type": "stream",
     "text": [
      "{11: 4359, 5: 4392, 4: 295, 7: 54, 9: 64, 14: 28, 12: 293, 10: 129, 2: 42, 3: 61, 6: 108, 8: 39, 0: 20, 15: 20, 13: 77, 1: 19}\n"
     ]
    }
   ],
   "source": [
    "measure(4,10000,lambda i,k,op: CU(i,k,op,0.3))"
   ]
  },
  {
   "cell_type": "code",
   "execution_count": 13,
   "metadata": {},
   "outputs": [
    {
     "name": "stdout",
     "output_type": "stream",
     "text": [
      "0.3125\n",
      "0.29712145545970736\n",
      "-0.0015378544540292647\n"
     ]
    }
   ],
   "source": [
    "Nphi0t=4392\n",
    "Nphi0tM1=295\n",
    "Nphi0tP1=108\n",
    "\n",
    "eps=2**-4\n",
    "\n",
    "phi0tilde=5*eps\n",
    "print(phi0tilde)\n",
    "\n",
    "r=Nphi0tM1/Nphi0tP1\n",
    "phi=phi0tilde+eps*(1.-r**0.5)/(1.+r**0.5)\n",
    "print(phi)\n",
    "print(eps*(1.-r**0.5)/(1.+r**0.5)*0.1)"
   ]
  },
  {
   "cell_type": "code",
   "execution_count": 14,
   "metadata": {},
   "outputs": [
    {
     "name": "stdout",
     "output_type": "stream",
     "text": [
      "Initial = 0\n",
      "    1 * |0>|0>\n"
     ]
    },
    {
     "data": {
      "image/png": "[encoded data removed]",
      "text/plain": [
       "<Figure size 432x288 with 1 Axes>"
      ]
     },
     "metadata": {
      "needs_background": "light"
     },
     "output_type": "display_data"
    }
   ],
   "source": [
    "measure(4,1000,lambda i,k,op: CU(i,k,op,0.4))"
   ]
  },
  {
   "cell_type": "code",
   "execution_count": 6,
   "metadata": {},
   "outputs": [
    {
     "name": "stdout",
     "output_type": "stream",
     "text": [
      "Initial = 0\n",
      "    1 * |0>|0>\n"
     ]
    },
    {
     "data": {
      "image/png": "[encoded data removed]",
      "text/plain": [
       "<Figure size 432x288 with 1 Axes>"
      ]
     },
     "metadata": {
      "needs_background": "light"
     },
     "output_type": "display_data"
    }
   ],
   "source": [
    "measure(5,1000,lambda i,k,op: CU(i,k,op,0.4))"
   ]
  },
  {
   "cell_type": "code",
   "execution_count": 7,
   "metadata": {},
   "outputs": [
    {
     "name": "stdout",
     "output_type": "stream",
     "text": [
      "Initial = 0\n",
      "    1 * |0>|0>\n"
     ]
    },
    {
     "data": {
      "image/png": "[encoded data removed]",
      "text/plain": [
       "<Figure size 432x288 with 1 Axes>"
      ]
     },
     "metadata": {
      "needs_background": "light"
     },
     "output_type": "display_data"
    }
   ],
   "source": [
    "measure(6,1000,lambda i,k,op: CU(i,k,op,0.4))"
   ]
  },
  {
   "cell_type": "code",
   "execution_count": 8,
   "metadata": {},
   "outputs": [
    {
     "name": "stdout",
     "output_type": "stream",
     "text": [
      "Initial = 0\n",
      "    1 * |0>|0>\n"
     ]
    },
    {
     "data": {
      "image/png": "[encoded data removed]",
      "text/plain": [
       "<Figure size 432x288 with 1 Axes>"
      ]
     },
     "metadata": {
      "needs_background": "light"
     },
     "output_type": "display_data"
    }
   ],
   "source": [
    "measure(7,1000,lambda i,k,op: CU(i,k,op,0.4))"
   ]
  },
  {
   "cell_type": "markdown",
   "metadata": {},
   "source": [
    "# More general one-qubit matrices"
   ]
  },
  {
   "cell_type": "code",
   "execution_count": 9,
   "metadata": {},
   "outputs": [],
   "source": [
    "def CU2(i,k,op,phi,theta): # i is control qubit, k is power\n",
    "    return op.Rz(0,np.pi*(phi-theta)*k).CNOT(i,0).Rz(0,np.pi*(theta-phi)*k).CNOT(i,0).Rz(i,np.pi*(theta+phi)*k)\n",
    "\n"
   ]
  },
  {
   "cell_type": "code",
   "execution_count": 10,
   "metadata": {},
   "outputs": [
    {
     "name": "stdout",
     "output_type": "stream",
     "text": [
      "Initial = 0\n",
      "    1 * |0>|0>\n"
     ]
    },
    {
     "data": {
      "image/png": "[encoded data removed]",
      "text/plain": [
       "<Figure size 432x288 with 1 Axes>"
      ]
     },
     "metadata": {
      "needs_background": "light"
     },
     "output_type": "display_data"
    }
   ],
   "source": [
    "measure(7,1000,lambda i,k,op: CU2(i,k,op,0.2,0.5))"
   ]
  },
  {
   "cell_type": "code",
   "execution_count": 11,
   "metadata": {},
   "outputs": [],
   "source": [
    "def CU2H(i,k,op,phi,theta): # i is control qubit, k is power\n",
    "    return op.H(0).Rz(0,np.pi*(phi-theta)*k).CNOT(i,0).Rz(0,np.pi*(theta-phi)*k).CNOT(i,0).Rz(i,np.pi*(theta+phi)*k).H(0)\n",
    "\n"
   ]
  },
  {
   "cell_type": "code",
   "execution_count": 12,
   "metadata": {},
   "outputs": [
    {
     "name": "stdout",
     "output_type": "stream",
     "text": [
      "Initial = 0\n",
      "    1 * |0>|0>\n"
     ]
    },
    {
     "data": {
      "image/png": "[encoded data removed]",
      "text/plain": [
       "<Figure size 432x288 with 1 Axes>"
      ]
     },
     "metadata": {
      "needs_background": "light"
     },
     "output_type": "display_data"
    }
   ],
   "source": [
    "measure(7,1000,lambda i,k,op: CU2H(i,k,op,0.2,0.5))"
   ]
  },
  {
   "cell_type": "code",
   "execution_count": null,
   "metadata": {},
   "outputs": [],
   "source": []
  },
  {
   "cell_type": "code",
   "execution_count": null,
   "metadata": {},
   "outputs": [],
   "source": []
  }
 ],
 "metadata": {
  "kernelspec": {
   "display_name": "Python 3",
   "language": "python",
   "name": "python3"
  },
  "language_info": {
   "codemirror_mode": {
    "name": "ipython",
    "version": 3
   },
   "file_extension": ".py",
   "mimetype": "text/x-python",
   "name": "python",
   "nbconvert_exporter": "python",
   "pygments_lexer": "ipython3",
   "version": "3.7.3"
  }
 },
 "nbformat": 4,
 "nbformat_minor": 2
}
